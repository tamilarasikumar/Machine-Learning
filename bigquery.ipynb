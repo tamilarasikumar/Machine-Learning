{
 "cells": [
  {
   "cell_type": "code",
   "execution_count": null,
   "id": "114b129d-d119-4166-89f8-9b3338ce06e5",
   "metadata": {},
   "outputs": [],
   "source": [
    "%%bigquery\n",
    "SELECT * FROM `stalwart-cable-335111.dataset_bucket.dataset_csv`"
   ]
  },
  {
   "cell_type": "code",
   "execution_count": null,
   "id": "9b03bea5-c9e7-4e07-943d-8e7363fe8ae6",
   "metadata": {},
   "outputs": [],
   "source": [
    "from io import StringIO\n",
    "import pandas as pd\n",
    "from google.cloud import storage\n",
    "client=storage.Client()\n",
    "bucket=client.get_bucket(\"bucket1_dataset\")\n",
    "blob=bucket.get_blob(f\"dataset.csv\")\n",
    "bt=blob.download_as_string()\n",
    "# print(bt)\n",
    "s=str(bt,\"utf-8\")\n",
    "s=StringIO(s)\n",
    "df=pd.read_csv(s)\n",
    "df"
   ]
  },
  {
   "cell_type": "code",
   "execution_count": null,
   "id": "1d3327ab-ca28-4c1a-b6d0-c400b4ae14e2",
   "metadata": {},
   "outputs": [],
   "source": [
    "from google.cloud import bigquery\n",
    "bigquery_client = bigquery.Client()\n",
    "QUERY=\"\"\"\n",
    "SELECT*FROM `stalwart-cable-335111.dataset_bucket.dataset_csv` LIMIT 10\n",
    "\"\"\"\n",
    "query_job=bigquery_client.query(QUERY)\n",
    "df=query_job.to_dataframe()\n",
    "df.head()"
   ]
  },
  {
   "cell_type": "code",
   "execution_count": null,
   "id": "ce2cbd4b-ddf6-4efe-9fa2-222f4d05dda3",
   "metadata": {},
   "outputs": [],
   "source": []
  },
  {
   "cell_type": "code",
   "execution_count": null,
   "id": "232a6011-a143-4ffb-b388-ab8f476afd46",
   "metadata": {},
   "outputs": [],
   "source": []
  }
 ],
 "metadata": {
  "environment": {
   "kernel": "python3",
   "name": "common-cpu.m87",
   "type": "gcloud",
   "uri": "gcr.io/deeplearning-platform-release/base-cpu:m87"
  },
  "kernelspec": {
   "display_name": "Python 3",
   "language": "python",
   "name": "python3"
  },
  "language_info": {
   "codemirror_mode": {
    "name": "ipython",
    "version": 3
   },
   "file_extension": ".py",
   "mimetype": "text/x-python",
   "name": "python",
   "nbconvert_exporter": "python",
   "pygments_lexer": "ipython3",
   "version": "3.7.12"
  }
 },
 "nbformat": 4,
 "nbformat_minor": 5
}
